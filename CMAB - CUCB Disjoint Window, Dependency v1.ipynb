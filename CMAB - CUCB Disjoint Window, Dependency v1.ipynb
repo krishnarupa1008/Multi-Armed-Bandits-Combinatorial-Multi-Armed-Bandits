{
 "cells": [
  {
   "cell_type": "code",
   "execution_count": 1,
   "metadata": {},
   "outputs": [],
   "source": [
    "import math\n",
    "import random\n",
    "import seaborn as sns\n",
    "import pandas as pd\n",
    "import numpy as np\n",
    "import scipy.stats\n",
    "import matplotlib.pyplot as plt\n",
    "plt.style.use('seaborn-whitegrid')\n",
    "%matplotlib inline\n",
    "from matplotlib.pyplot import figure"
   ]
  },
  {
   "cell_type": "code",
   "execution_count": null,
   "metadata": {},
   "outputs": [],
   "source": []
  },
  {
   "cell_type": "code",
   "execution_count": 2,
   "metadata": {},
   "outputs": [
    {
     "data": {
      "text/html": [
       "<div>\n",
       "<style scoped>\n",
       "    .dataframe tbody tr th:only-of-type {\n",
       "        vertical-align: middle;\n",
       "    }\n",
       "\n",
       "    .dataframe tbody tr th {\n",
       "        vertical-align: top;\n",
       "    }\n",
       "\n",
       "    .dataframe thead th {\n",
       "        text-align: right;\n",
       "    }\n",
       "</style>\n",
       "<table border=\"1\" class=\"dataframe\">\n",
       "  <thead>\n",
       "    <tr style=\"text-align: right;\">\n",
       "      <th></th>\n",
       "      <th>Probability</th>\n",
       "      <th>Arm1</th>\n",
       "      <th>Arm2</th>\n",
       "      <th>Arm3</th>\n",
       "      <th>Arm4</th>\n",
       "      <th>Arm5</th>\n",
       "      <th>Arm6</th>\n",
       "    </tr>\n",
       "  </thead>\n",
       "  <tbody>\n",
       "    <tr>\n",
       "      <th>0</th>\n",
       "      <td>0.2</td>\n",
       "      <td>0.00</td>\n",
       "      <td>0.15</td>\n",
       "      <td>0.23</td>\n",
       "      <td>0.21</td>\n",
       "      <td>0.00</td>\n",
       "      <td>0.30</td>\n",
       "    </tr>\n",
       "    <tr>\n",
       "      <th>1</th>\n",
       "      <td>0.2</td>\n",
       "      <td>0.10</td>\n",
       "      <td>0.24</td>\n",
       "      <td>0.52</td>\n",
       "      <td>0.50</td>\n",
       "      <td>0.10</td>\n",
       "      <td>0.48</td>\n",
       "    </tr>\n",
       "    <tr>\n",
       "      <th>2</th>\n",
       "      <td>0.2</td>\n",
       "      <td>0.15</td>\n",
       "      <td>0.34</td>\n",
       "      <td>0.62</td>\n",
       "      <td>0.60</td>\n",
       "      <td>0.15</td>\n",
       "      <td>0.68</td>\n",
       "    </tr>\n",
       "    <tr>\n",
       "      <th>3</th>\n",
       "      <td>0.2</td>\n",
       "      <td>0.30</td>\n",
       "      <td>0.40</td>\n",
       "      <td>0.81</td>\n",
       "      <td>0.79</td>\n",
       "      <td>0.30</td>\n",
       "      <td>0.80</td>\n",
       "    </tr>\n",
       "    <tr>\n",
       "      <th>4</th>\n",
       "      <td>0.2</td>\n",
       "      <td>0.40</td>\n",
       "      <td>0.45</td>\n",
       "      <td>1.00</td>\n",
       "      <td>0.98</td>\n",
       "      <td>0.40</td>\n",
       "      <td>0.90</td>\n",
       "    </tr>\n",
       "  </tbody>\n",
       "</table>\n",
       "</div>"
      ],
      "text/plain": [
       "   Probability  Arm1  Arm2  Arm3  Arm4  Arm5  Arm6\n",
       "0          0.2  0.00  0.15  0.23  0.21  0.00  0.30\n",
       "1          0.2  0.10  0.24  0.52  0.50  0.10  0.48\n",
       "2          0.2  0.15  0.34  0.62  0.60  0.15  0.68\n",
       "3          0.2  0.30  0.40  0.81  0.79  0.30  0.80\n",
       "4          0.2  0.40  0.45  1.00  0.98  0.40  0.90"
      ]
     },
     "execution_count": 2,
     "metadata": {},
     "output_type": "execute_result"
    }
   ],
   "source": [
    "data1 = {'Probability': np.ones(5)*0.2,\n",
    "        'Arm1': [0, 0.1, 0.15, 0.3, 0.4],\n",
    "        'Arm2': [0.15, 0.24, 0.34, 0.4, 0.45],\n",
    "        'Arm3': [0.23, 0.52, 0.62, 0.81, 1],\n",
    "        'Arm4': [0.21, 0.50, 0.60, 0.79, 0.98], #arm4 has similar prob dist to arm3\n",
    "        'Arm5': [0, 0.1, 0.15, 0.3, 0.4], #arm5 has same prob dist as arm1\n",
    "        'Arm6': [0.30, 0.48, 0.68, 0.8, 0.9] #arm6 is dependent on arm2, it's double arm2\n",
    "       }\n",
    "\n",
    "df1 = pd.DataFrame(data1)\n",
    "df1"
   ]
  },
  {
   "cell_type": "code",
   "execution_count": 3,
   "metadata": {},
   "outputs": [
    {
     "data": {
      "text/plain": [
       "Text(0.5, 1.0, 'Distribution of Rewards for Each Arm')"
      ]
     },
     "execution_count": 3,
     "metadata": {},
     "output_type": "execute_result"
    },
    {
     "data": {
      "image/png": "[encoded data removed]",
      "text/plain": [
       "<Figure size 432x288 with 1 Axes>"
      ]
     },
     "metadata": {
      "needs_background": "light"
     },
     "output_type": "display_data"
    }
   ],
   "source": [
    "ax = sns.boxplot(x=\"variable\", y=\"value\", data=pd.melt(df1[['Arm1','Arm2','Arm3','Arm4','Arm5','Arm6']]))\n",
    "plt.title(\"Distribution of Rewards for Each Arm\")"
   ]
  },
  {
   "cell_type": "code",
   "execution_count": 4,
   "metadata": {},
   "outputs": [
    {
     "data": {
      "text/plain": [
       "0.19"
      ]
     },
     "execution_count": 4,
     "metadata": {},
     "output_type": "execute_result"
    }
   ],
   "source": [
    "#e.g. trying arms with different types of distributions\n",
    "arr = np.arange(0.01, 1.01, 0.01) #probability dist values\n",
    "np.random.choice(arr)     #one random value within probability dist"
   ]
  },
  {
   "cell_type": "code",
   "execution_count": 5,
   "metadata": {},
   "outputs": [
    {
     "data": {
      "text/plain": [
       "array([0.01, 0.02, 0.03, 0.04, 0.05, 0.06, 0.07, 0.08, 0.09, 0.1 , 0.11,\n",
       "       0.12, 0.13, 0.14, 0.15, 0.16, 0.17, 0.18, 0.19, 0.2 , 0.21, 0.22,\n",
       "       0.23, 0.24, 0.25, 0.26, 0.27, 0.28, 0.29, 0.3 , 0.31, 0.32, 0.33,\n",
       "       0.34, 0.35, 0.36, 0.37, 0.38, 0.39, 0.4 , 0.41, 0.42, 0.43, 0.44,\n",
       "       0.45, 0.46, 0.47, 0.48, 0.49, 0.5 , 0.51, 0.52, 0.53, 0.54, 0.55,\n",
       "       0.56, 0.57, 0.58, 0.59, 0.6 , 0.61, 0.62, 0.63, 0.64, 0.65, 0.66,\n",
       "       0.67, 0.68, 0.69, 0.7 , 0.71, 0.72, 0.73, 0.74, 0.75, 0.76, 0.77,\n",
       "       0.78, 0.79, 0.8 , 0.81, 0.82, 0.83, 0.84, 0.85, 0.86, 0.87, 0.88,\n",
       "       0.89, 0.9 , 0.91, 0.92, 0.93, 0.94, 0.95, 0.96, 0.97, 0.98, 0.99,\n",
       "       1.  ])"
      ]
     },
     "execution_count": 5,
     "metadata": {},
     "output_type": "execute_result"
    }
   ],
   "source": [
    "np.arange(0.01, 1.01, 0.01)"
   ]
  },
  {
   "cell_type": "code",
   "execution_count": 6,
   "metadata": {},
   "outputs": [],
   "source": [
    "arm1R = [] #arm1 rewards list\n",
    "arm2R = [] #arm2 rewards list\n",
    "arm3R = [] #arm3 rewards list\n",
    "arm4R = [] #arm4 rewards list\n",
    "arm5R = [] #arm5 rewards list\n",
    "arm6R = [] #arm6 rewards list\n",
    "\n",
    "#arm1 dist\n",
    "for i in range(1000):\n",
    "    if np.random.choice(arr) < 0.21:  \n",
    "        arm1 = 0    #20% chance\n",
    "    elif np.random.choice(arr) < 0.41:\n",
    "        arm1 = 0.1    #20% chance\n",
    "    elif np.random.choice(arr) < 0.61:\n",
    "        arm1 = 0.15    #20% chance\n",
    "    elif np.random.choice(arr) < 0.81:\n",
    "        arm1 = 0.3    #20% chance\n",
    "    elif np.random.choice(arr) < 1.01:  \n",
    "        arm1 = 0.4    #20% chance\n",
    "    arm1R = np.append(arm1R, arm1)\n",
    "#print(arm1R)\n",
    "\n",
    "#arm2 dist\n",
    "for i in range(1000):\n",
    "    if np.random.choice(arr) < 0.21:  \n",
    "        arm2 = 0.15    #20% chance\n",
    "    elif np.random.choice(arr) < 0.41:\n",
    "        arm2 = 0.24    #20% chance\n",
    "    elif np.random.choice(arr) < 0.61:\n",
    "        arm2 = 0.34    #20% chance\n",
    "    elif np.random.choice(arr) < 0.81:\n",
    "        arm2 = 0.4    #20% chance\n",
    "    elif np.random.choice(arr) < 1.01:  \n",
    "        arm2 = 0.45    #20% chance\n",
    "    arm2R = np.append(arm2R, arm2)\n",
    "\n",
    "#arm3 dist\n",
    "for i in range(1000):\n",
    "    if np.random.choice(arr) < 0.21:  \n",
    "        arm3 = 0.2    #20% chance\n",
    "    elif np.random.choice(arr) < 0.41:\n",
    "        arm3 = 0.5    #20% chance\n",
    "    elif np.random.choice(arr) < 0.61:\n",
    "        arm3 = 0.6    #20% chance\n",
    "    elif np.random.choice(arr) < 0.81:\n",
    "        arm3 = 0.8    #20% chance\n",
    "    elif np.random.choice(arr) < 1.01:  \n",
    "        arm3 = 1    #20% chance\n",
    "    arm3R = np.append(arm3R, arm3)\n",
    "\n",
    "#arm4 dist\n",
    "for i in range(1000):\n",
    "    if np.random.choice(arr) < 0.21:  \n",
    "        arm4 = 0.2    #20% chance\n",
    "    elif np.random.choice(arr) < 0.41:\n",
    "        arm4 = 0.5    #20% chance\n",
    "    elif np.random.choice(arr) < 0.61:\n",
    "        arm4 = 0.6    #20% chance\n",
    "    elif np.random.choice(arr) < 0.81:\n",
    "        arm4 = 0.8    #20% chance\n",
    "    elif np.random.choice(arr) < 1.01:  \n",
    "        arm4 = 1    #20% chance\n",
    "    arm4R = np.append(arm4R, arm4)\n",
    "\n",
    "#arm5 dist\n",
    "for i in range(1000):\n",
    "    if np.random.choice(arr) < 0.21:  \n",
    "        arm5 = 0    #20% chance\n",
    "    elif np.random.choice(arr) < 0.41:\n",
    "        arm5 = 0.1    #20% chance\n",
    "    elif np.random.choice(arr) < 0.61:\n",
    "        arm5 = 0.15    #20% chance\n",
    "    elif np.random.choice(arr) < 0.81:\n",
    "        arm5 = 0.3    #20% chance\n",
    "    elif np.random.choice(arr) < 1.01:  \n",
    "        arm5 = 0.4    #20% chance\n",
    "    arm5R = np.append(arm5R, arm5)\n",
    "    \n",
    "#arm6 dist\n",
    "for i in range(1000):\n",
    "    if np.random.choice(arr) < 0.21:  \n",
    "        arm6 = 0.3    #20% chance\n",
    "    elif np.random.choice(arr) < 0.41:\n",
    "        arm6 = 0.48    #20% chance\n",
    "    elif np.random.choice(arr) < 0.61:\n",
    "        arm6 = 0.68    #20% chance\n",
    "    elif np.random.choice(arr) < 0.81:\n",
    "        arm6 = 0.8    #20% chance\n",
    "    elif np.random.choice(arr) < 1.01:  \n",
    "        arm6 = 0.9    #20% chance\n",
    "    arm6R = np.append(arm6R, arm6)\n"
   ]
  },
  {
   "cell_type": "code",
   "execution_count": null,
   "metadata": {},
   "outputs": [],
   "source": []
  },
  {
   "cell_type": "code",
   "execution_count": 7,
   "metadata": {},
   "outputs": [
    {
     "data": {
      "text/html": [
       "<div>\n",
       "<style scoped>\n",
       "    .dataframe tbody tr th:only-of-type {\n",
       "        vertical-align: middle;\n",
       "    }\n",
       "\n",
       "    .dataframe tbody tr th {\n",
       "        vertical-align: top;\n",
       "    }\n",
       "\n",
       "    .dataframe thead th {\n",
       "        text-align: right;\n",
       "    }\n",
       "</style>\n",
       "<table border=\"1\" class=\"dataframe\">\n",
       "  <thead>\n",
       "    <tr style=\"text-align: right;\">\n",
       "      <th></th>\n",
       "      <th>Round</th>\n",
       "      <th>Arm1 Reward</th>\n",
       "      <th>Arm2 Reward</th>\n",
       "      <th>Arm3 Reward</th>\n",
       "      <th>Arm4 Reward</th>\n",
       "      <th>Arm5 Reward</th>\n",
       "      <th>Arm6 Reward</th>\n",
       "    </tr>\n",
       "  </thead>\n",
       "  <tbody>\n",
       "    <tr>\n",
       "      <th>0</th>\n",
       "      <td>1</td>\n",
       "      <td>0.00</td>\n",
       "      <td>0.40</td>\n",
       "      <td>0.2</td>\n",
       "      <td>0.8</td>\n",
       "      <td>0.00</td>\n",
       "      <td>0.68</td>\n",
       "    </tr>\n",
       "    <tr>\n",
       "      <th>1</th>\n",
       "      <td>2</td>\n",
       "      <td>0.10</td>\n",
       "      <td>0.24</td>\n",
       "      <td>0.6</td>\n",
       "      <td>0.6</td>\n",
       "      <td>0.15</td>\n",
       "      <td>0.80</td>\n",
       "    </tr>\n",
       "    <tr>\n",
       "      <th>2</th>\n",
       "      <td>3</td>\n",
       "      <td>0.10</td>\n",
       "      <td>0.34</td>\n",
       "      <td>0.5</td>\n",
       "      <td>0.5</td>\n",
       "      <td>0.30</td>\n",
       "      <td>0.80</td>\n",
       "    </tr>\n",
       "    <tr>\n",
       "      <th>3</th>\n",
       "      <td>4</td>\n",
       "      <td>0.10</td>\n",
       "      <td>0.24</td>\n",
       "      <td>0.2</td>\n",
       "      <td>0.6</td>\n",
       "      <td>0.00</td>\n",
       "      <td>0.80</td>\n",
       "    </tr>\n",
       "    <tr>\n",
       "      <th>4</th>\n",
       "      <td>5</td>\n",
       "      <td>0.15</td>\n",
       "      <td>0.34</td>\n",
       "      <td>0.5</td>\n",
       "      <td>0.8</td>\n",
       "      <td>0.15</td>\n",
       "      <td>0.48</td>\n",
       "    </tr>\n",
       "    <tr>\n",
       "      <th>5</th>\n",
       "      <td>6</td>\n",
       "      <td>0.15</td>\n",
       "      <td>0.15</td>\n",
       "      <td>0.5</td>\n",
       "      <td>0.5</td>\n",
       "      <td>0.10</td>\n",
       "      <td>0.68</td>\n",
       "    </tr>\n",
       "    <tr>\n",
       "      <th>6</th>\n",
       "      <td>7</td>\n",
       "      <td>0.15</td>\n",
       "      <td>0.40</td>\n",
       "      <td>0.2</td>\n",
       "      <td>0.5</td>\n",
       "      <td>0.10</td>\n",
       "      <td>0.48</td>\n",
       "    </tr>\n",
       "    <tr>\n",
       "      <th>7</th>\n",
       "      <td>8</td>\n",
       "      <td>0.10</td>\n",
       "      <td>0.15</td>\n",
       "      <td>0.8</td>\n",
       "      <td>0.2</td>\n",
       "      <td>0.30</td>\n",
       "      <td>0.68</td>\n",
       "    </tr>\n",
       "    <tr>\n",
       "      <th>8</th>\n",
       "      <td>9</td>\n",
       "      <td>0.15</td>\n",
       "      <td>0.34</td>\n",
       "      <td>0.8</td>\n",
       "      <td>0.6</td>\n",
       "      <td>0.10</td>\n",
       "      <td>0.48</td>\n",
       "    </tr>\n",
       "    <tr>\n",
       "      <th>9</th>\n",
       "      <td>10</td>\n",
       "      <td>0.00</td>\n",
       "      <td>0.24</td>\n",
       "      <td>0.8</td>\n",
       "      <td>0.2</td>\n",
       "      <td>0.15</td>\n",
       "      <td>0.48</td>\n",
       "    </tr>\n",
       "  </tbody>\n",
       "</table>\n",
       "</div>"
      ],
      "text/plain": [
       "   Round  Arm1 Reward  Arm2 Reward  Arm3 Reward  Arm4 Reward  Arm5 Reward  \\\n",
       "0      1         0.00         0.40          0.2          0.8         0.00   \n",
       "1      2         0.10         0.24          0.6          0.6         0.15   \n",
       "2      3         0.10         0.34          0.5          0.5         0.30   \n",
       "3      4         0.10         0.24          0.2          0.6         0.00   \n",
       "4      5         0.15         0.34          0.5          0.8         0.15   \n",
       "5      6         0.15         0.15          0.5          0.5         0.10   \n",
       "6      7         0.15         0.40          0.2          0.5         0.10   \n",
       "7      8         0.10         0.15          0.8          0.2         0.30   \n",
       "8      9         0.15         0.34          0.8          0.6         0.10   \n",
       "9     10         0.00         0.24          0.8          0.2         0.15   \n",
       "\n",
       "   Arm6 Reward  \n",
       "0         0.68  \n",
       "1         0.80  \n",
       "2         0.80  \n",
       "3         0.80  \n",
       "4         0.48  \n",
       "5         0.68  \n",
       "6         0.48  \n",
       "7         0.68  \n",
       "8         0.48  \n",
       "9         0.48  "
      ]
     },
     "execution_count": 7,
     "metadata": {},
     "output_type": "execute_result"
    }
   ],
   "source": [
    "data2 = {'Round': np.arange(1,1001),\n",
    "        'Arm1 Reward': arm1R,\n",
    "        'Arm2 Reward': arm2R,\n",
    "        'Arm3 Reward': arm3R,\n",
    "        'Arm4 Reward': arm4R, \n",
    "        'Arm5 Reward': arm5R,\n",
    "        'Arm6 Reward': arm6R,\n",
    "       }\n",
    "\n",
    "df2 = pd.DataFrame(data2)\n",
    "df2.head(10)  #shows first 10 rounds out of 1000"
   ]
  },
  {
   "cell_type": "code",
   "execution_count": 8,
   "metadata": {},
   "outputs": [
    {
     "data": {
      "text/plain": [
       "2"
      ]
     },
     "execution_count": 8,
     "metadata": {},
     "output_type": "execute_result"
    }
   ],
   "source": [
    "k=6\n",
    "K=3\n",
    "\n",
    "math.ceil(k/K)"
   ]
  },
  {
   "cell_type": "code",
   "execution_count": 10,
   "metadata": {},
   "outputs": [],
   "source": [
    "#implementing CUCB, 1000 runs\n",
    "#CUCB for K=2 arms being selected\n",
    "rounds = len(df2.index) # number of rounds; \n",
    "k = 6 # number of arms\n",
    "mu = 0 # initialize to 0, the empirical mean\n",
    "mu_arr = []\n",
    "N = np.zeros(k) # number of times a given arm has been selected before current round; initialize to 0 as no arm selected yet\n",
    "rewardSum = np.zeros(k)\n",
    "hist_UCB_rewards = [] #stores history of UCB CHOSEN rewards\n",
    "alpha = 0.6\n",
    "beta = 0.7\n",
    "r_mu = 0\n",
    "opt_mu = 0\n",
    "\n",
    "for t in range(rounds):\n",
    "    UCB_Values = np.zeros(k) #array holding ucb values. re-initialize to 0 at start of each round \n",
    "    temp_UCB_Values = np.zeros(k)\n",
    "    arm_selected = 0\n",
    "    for a in range(k):\n",
    "        if (N[a] > 0):\n",
    "            #calculate UCB below\n",
    "            mu = rewardSum[a]/N[a]\n",
    "            ucb_value = mu + math.sqrt(3/2*math.log(t)/N[a]) \n",
    "            UCB_Values[a] = ucb_value\n",
    "        elif (N[a] == 0): #i.e. if N is 0 for arm a, then allow exploration of that arm\n",
    "            UCB_Values[a] = 1e500 #infinity\n",
    "        temp_UCB_Values[a] = UCB_Values[a] #this is a copy of UCB_Values[a], to be modified below to find runner-up arms\n",
    "        \n",
    "    arm1_selected = np.argmax(UCB_Values) #NB: argmax gives index of max value in a list/array\n",
    "    temp_UCB_Values[arm1_selected] = 0\n",
    "    arm2_selected = np.argmax(temp_UCB_Values)\n",
    "    \n",
    "    #update Values as of round t\n",
    "    reward = df2.values[t, arm1_selected+1] + df2.values[t, arm2_selected+1]\n",
    "    r_mu = reward/2 #reward divide by K\n",
    "    arm3_mean = np.mean([0.23, 0.52, 0.62, 0.81, 1])\n",
    "    arm6_mean = np.mean([0.30, 0.48, 0.68, 0.8, 0.9])\n",
    "    opt_mu = (arm3_mean+arm6_mean)/2 #divide by K\n",
    "    if r_mu < alpha*opt_mu: #superarm S is bad if the reward sum from S is < alpha*mean Reward of Optimal Arm.\n",
    "        #this superarm is a bad superarm\n",
    "        #only increment the simple arm within this superarm that has min N\n",
    "        if N[arm1_selected] < N[arm2_selected]:\n",
    "            N[arm1_selected] += 1\n",
    "        else:\n",
    "            N[arm2_selected] += 1\n",
    "    #else if superarm S is not bad then don't increment N at all for any simple arms within that superarm\n",
    "    \n",
    "    rewardSum[arm1_selected] += df2.values[t, arm1_selected+1]  #will need loop here to do this K times\n",
    "    rewardSum[arm2_selected] += df2.values[t, arm2_selected+1]\n",
    "    hist_UCB_rewards.append(reward)\n",
    "    UCB_cumu_reward = np.cumsum(hist_UCB_rewards)\n",
    "    UCB_cumu_reward_norm = UCB_cumu_reward/2 #UCB_cumu_reward divide by K\n",
    "    UCB_total_reward = sum(hist_UCB_rewards)\n",
    "    UCB_total_reward_norm = UCB_total_reward/2 #UCB_total_reward divide by K\n"
   ]
  },
  {
   "cell_type": "code",
   "execution_count": 13,
   "metadata": {},
   "outputs": [
    {
     "data": {
      "text/plain": [
       "524.1150000000016"
      ]
     },
     "execution_count": 13,
     "metadata": {},
     "output_type": "execute_result"
    }
   ],
   "source": [
    "UCB_total_reward_norm"
   ]
  },
  {
   "cell_type": "code",
   "execution_count": 22,
   "metadata": {},
   "outputs": [
    {
     "data": {
      "text/plain": [
       "array([3.2500e+00, 3.9000e-01, 5.1810e+02, 9.0000e-01, 7.0000e-01,\n",
       "       5.6156e+02])"
      ]
     },
     "execution_count": 22,
     "metadata": {},
     "output_type": "execute_result"
    }
   ],
   "source": [
    "arm3_mean = np.mean([0.23, 0.52, 0.62, 0.81, 1])\n",
    "arm6_mean = np.mean([0.30, 0.48, 0.68, 0.8, 0.9])\n",
    "opt_mu = (arm3_mean+arm6_mean)/2\n",
    "opt_mu\n",
    "rewardSum"
   ]
  },
  {
   "cell_type": "code",
   "execution_count": 23,
   "metadata": {},
   "outputs": [
    {
     "data": {
      "image/png": "[encoded data removed]",
      "text/plain": [
       "<Figure size 432x288 with 1 Axes>"
      ]
     },
     "metadata": {
      "needs_background": "light"
     },
     "output_type": "display_data"
    },
    {
     "data": {
      "text/plain": [
       "Text(0.5, 1.0, 'Number of times Each Arm was Selected')"
      ]
     },
     "execution_count": 23,
     "metadata": {},
     "output_type": "execute_result"
    },
    {
     "data": {
      "image/png": "[encoded data removed]",
      "text/plain": [
       "<Figure size 432x288 with 1 Axes>"
      ]
     },
     "metadata": {
      "needs_background": "light"
     },
     "output_type": "display_data"
    }
   ],
   "source": [
    "#reward\n",
    "reward_arr1 = UCB_cumu_reward\n",
    "plt.plot(reward_arr1,color = 'g')\n",
    "plt.title(\"Total Reward over Time (Rounds)\")\n",
    "plt.show()\n",
    "\n",
    "#num times arms selected\n",
    "plt.bar(['arm1','arm2','arm3','arm4','arm5', 'arm6'], N) #NB: N calculated according to CUCB (pg 5 in Superarm paper)\n",
    "plt.title(\"Number of times Each Arm was Selected\")"
   ]
  },
  {
   "cell_type": "code",
   "execution_count": 24,
   "metadata": {},
   "outputs": [
    {
     "data": {
      "text/plain": [
       "Text(0.5, 1.0, 'UCB Values for Each Arm')"
      ]
     },
     "execution_count": 24,
     "metadata": {},
     "output_type": "execute_result"
    },
    {
     "data": {
      "image/png": "[encoded data removed]",
      "text/plain": [
       "<Figure size 432x288 with 1 Axes>"
      ]
     },
     "metadata": {
      "needs_background": "light"
     },
     "output_type": "display_data"
    }
   ],
   "source": [
    "plt.bar(['arm1','arm2','arm3','arm4','arm5', 'arm6'], UCB_Values)\n",
    "plt.title(\"UCB Values for Each Arm\")"
   ]
  },
  {
   "cell_type": "code",
   "execution_count": 25,
   "metadata": {},
   "outputs": [
    {
     "data": {
      "text/plain": [
       "Text(0.5, 1.0, 'Quantity that Each Arm within Superarm Contributed to Total Reward')"
      ]
     },
     "execution_count": 25,
     "metadata": {},
     "output_type": "execute_result"
    },
    {
     "data": {
      "image/png": "[encoded data removed]",
      "text/plain": [
       "<Figure size 432x288 with 1 Axes>"
      ]
     },
     "metadata": {
      "needs_background": "light"
     },
     "output_type": "display_data"
    }
   ],
   "source": [
    "#how much each arm contributed to the reward\n",
    "plt.bar(['arm1','arm2','arm3','arm4','arm5', 'arm6'], rewardSum)\n",
    "plt.title(\"Quantity that Each Arm within Superarm Contributed to Total Reward\")"
   ]
  },
  {
   "cell_type": "code",
   "execution_count": 62,
   "metadata": {},
   "outputs": [],
   "source": [
    "#implementing CUCB, 1000 runs\n",
    "#CUCB for K=3 arms being selected\n",
    "rounds = len(df2.index) # number of rounds; \n",
    "k = 6 # number of arms\n",
    "mu = 0 # initialize to 0, the empirical mean\n",
    "mu_arr = []\n",
    "N = np.zeros(k) # number of times a given arm has been selected before current round; initialize to 0 as no arm selected yet\n",
    "rewardSum = np.zeros(k)\n",
    "hist_UCB_rewards = [] #stores history of UCB CHOSEN rewards\n",
    "alpha = 1\n",
    "beta = 1\n",
    "r_mu = 0\n",
    "opt_mu = 0\n",
    "\n",
    "for t in range(rounds):\n",
    "    UCB_Values = np.zeros(k) #array holding ucb values. re-initialize to 0 at start of each round \n",
    "    temp_UCB_Values = np.zeros(k)\n",
    "    arm_selected = 0\n",
    "    for a in range(k):\n",
    "        if (N[a] > 0):\n",
    "            #calculate UCB below\n",
    "            mu = rewardSum[a]/N[a]\n",
    "            ucb_value = mu + math.sqrt(3/2*math.log(t)/N[a]) \n",
    "            UCB_Values[a] = ucb_value\n",
    "        elif (N[a] == 0): #i.e. if N is 0 for arm a, then allow exploration of that arm\n",
    "            UCB_Values[a] = 1e500 #infinity\n",
    "        temp_UCB_Values[a] = UCB_Values[a] #this is a copy of UCB_Values[a], to be modified below to find runner-up arms\n",
    "        \n",
    "    arm1_selected = np.argmax(UCB_Values) #NB: argmax gives index of max value in a list/array\n",
    "    temp_UCB_Values[arm1_selected] = 0\n",
    "    arm2_selected = np.argmax(temp_UCB_Values)\n",
    "    temp_UCB_Values[arm2_selected] = 0\n",
    "    arm3_selected = np.argmax(temp_UCB_Values)\n",
    "    \n",
    "    #update Values as of round t\n",
    "    reward = df2.values[t, arm1_selected+1] + df2.values[t, arm2_selected+1] + df2.values[t, arm3_selected+1]\n",
    "    r_mu = reward/3 #reward divide by K\n",
    "    arm3_mean = np.mean([0.23, 0.52, 0.62, 0.81, 1])\n",
    "    arm4_mean = np.mean([0.21, 0.5, 0.6, 0.79, 0.98])\n",
    "    arm6_mean = np.mean([0.30, 0.48, 0.68, 0.8, 0.9])\n",
    "    opt_mu = (arm3_mean+arm4_mean+arm6_mean)/3 #divide by K\n",
    "    if r_mu < alpha*opt_mu: #superarm S is bad if the reward sum from S is < alpha*mean Reward of Optimal Arm.\n",
    "        #this superarm is a bad superarm\n",
    "        #only increment the simple arm within this superarm that has min N\n",
    "        if N[arm1_selected] < N[arm2_selected]:\n",
    "            N[arm1_selected] += 1\n",
    "        else:\n",
    "            N[arm2_selected] += 1\n",
    "    #else if superarm S is not bad then don't increment N at all for any simple arms within that superarm\n",
    "    \n",
    "    rewardSum[arm1_selected] += df2.values[t, arm1_selected+1]  #will need loop here to do this K times\n",
    "    rewardSum[arm2_selected] += df2.values[t, arm2_selected+1]\n",
    "    rewardSum[arm3_selected] += df2.values[t, arm3_selected+1]\n",
    "    hist_UCB_rewards.append(reward)\n",
    "    UCB_cumu_reward = np.cumsum(hist_UCB_rewards)\n",
    "    UCB_cumu_reward_norm = UCB_cumu_reward/3 #UCB_cumu_reward divide by K\n",
    "    UCB_total_reward = sum(hist_UCB_rewards)\n",
    "    UCB_total_reward_norm = UCB_total_reward/3 #UCB_total_reward divide by K"
   ]
  },
  {
   "cell_type": "code",
   "execution_count": 63,
   "metadata": {},
   "outputs": [
    {
     "data": {
      "text/plain": [
       "0.628"
      ]
     },
     "execution_count": 63,
     "metadata": {},
     "output_type": "execute_result"
    }
   ],
   "source": [
    "arm3_mean = np.mean([0.23, 0.52, 0.62, 0.81, 1])\n",
    "arm4_mean = np.mean([0.21, 0.5, 0.6, 0.79, 0.98])\n",
    "arm6_mean = np.mean([0.30, 0.48, 0.68, 0.8, 0.9])\n",
    "opt_mu = (arm3_mean+arm4_mean+arm6_mean)/3\n",
    "opt_mu"
   ]
  },
  {
   "cell_type": "code",
   "execution_count": 64,
   "metadata": {},
   "outputs": [
    {
     "data": {
      "image/png": "[encoded data removed]",
      "text/plain": [
       "<Figure size 432x288 with 1 Axes>"
      ]
     },
     "metadata": {
      "needs_background": "light"
     },
     "output_type": "display_data"
    },
    {
     "data": {
      "text/plain": [
       "Text(0.5, 1.0, 'Number of times Each Arm was Selected')"
      ]
     },
     "execution_count": 64,
     "metadata": {},
     "output_type": "execute_result"
    },
    {
     "data": {
      "image/png": "[encoded data removed]",
      "text/plain": [
       "<Figure size 432x288 with 1 Axes>"
      ]
     },
     "metadata": {
      "needs_background": "light"
     },
     "output_type": "display_data"
    }
   ],
   "source": [
    "#reward\n",
    "reward_arr1 = UCB_cumu_reward\n",
    "plt.plot(reward_arr1,color = 'g')\n",
    "plt.title(\"Total Reward over Time (Rounds)\")\n",
    "plt.show()\n",
    "\n",
    "#num times arms selected\n",
    "plt.bar(['arm1','arm2','arm3','arm4','arm5', 'arm6'], N) #NB: N calculated according to CUCB (pg 5 in Superarm paper)\n",
    "plt.title(\"Number of times Each Arm was Selected\")"
   ]
  },
  {
   "cell_type": "code",
   "execution_count": 65,
   "metadata": {},
   "outputs": [
    {
     "data": {
      "text/plain": [
       "Text(0.5, 1.0, 'UCB Values for Each Arm')"
      ]
     },
     "execution_count": 65,
     "metadata": {},
     "output_type": "execute_result"
    },
    {
     "data": {
      "image/png": "[encoded data removed]",
      "text/plain": [
       "<Figure size 432x288 with 1 Axes>"
      ]
     },
     "metadata": {
      "needs_background": "light"
     },
     "output_type": "display_data"
    }
   ],
   "source": [
    "plt.bar(['arm1','arm2','arm3','arm4','arm5', 'arm6'], UCB_Values)\n",
    "plt.title(\"UCB Values for Each Arm\")"
   ]
  },
  {
   "cell_type": "code",
   "execution_count": 66,
   "metadata": {},
   "outputs": [
    {
     "data": {
      "text/plain": [
       "Text(0.5, 1.0, 'Quantity that Each Arm within Opt Superarm Contributed to Total Reward')"
      ]
     },
     "execution_count": 66,
     "metadata": {},
     "output_type": "execute_result"
    },
    {
     "data": {
      "image/png": "[encoded data removed]",
      "text/plain": [
       "<Figure size 432x288 with 1 Axes>"
      ]
     },
     "metadata": {
      "needs_background": "light"
     },
     "output_type": "display_data"
    }
   ],
   "source": [
    "#how much each arm within opt superarm contributed to the reward\n",
    "plt.bar(['arm1','arm2','arm3','arm4','arm5', 'arm6'], rewardSum)\n",
    "plt.title(\"Quantity that Each Arm within Opt Superarm Contributed to Total Reward\")"
   ]
  },
  {
   "cell_type": "code",
   "execution_count": null,
   "metadata": {},
   "outputs": [],
   "source": []
  },
  {
   "cell_type": "code",
   "execution_count": null,
   "metadata": {},
   "outputs": [],
   "source": []
  },
  {
   "cell_type": "code",
   "execution_count": null,
   "metadata": {},
   "outputs": [],
   "source": []
  },
  {
   "cell_type": "code",
   "execution_count": 12,
   "metadata": {},
   "outputs": [
    {
     "ename": "ValueError",
     "evalue": "math domain error",
     "output_type": "error",
     "traceback": [
      "\u001b[1;31m---------------------------------------------------------------------------\u001b[0m",
      "\u001b[1;31mValueError\u001b[0m                                Traceback (most recent call last)",
      "\u001b[1;32m<ipython-input-12-ad41982fb4a1>\u001b[0m in \u001b[0;36m<module>\u001b[1;34m\u001b[0m\n\u001b[0;32m     40\u001b[0m             \u001b[0mmu\u001b[0m \u001b[1;33m=\u001b[0m \u001b[0mrewardSum\u001b[0m\u001b[1;33m[\u001b[0m\u001b[0ma\u001b[0m\u001b[1;33m]\u001b[0m\u001b[1;33m/\u001b[0m\u001b[0mN\u001b[0m\u001b[1;33m[\u001b[0m\u001b[0ma\u001b[0m\u001b[1;33m]\u001b[0m\u001b[1;33m\u001b[0m\u001b[1;33m\u001b[0m\u001b[0m\n\u001b[0;32m     41\u001b[0m             \u001b[0mmu_arr\u001b[0m\u001b[1;33m[\u001b[0m\u001b[0ma\u001b[0m\u001b[1;33m]\u001b[0m \u001b[1;33m=\u001b[0m \u001b[0mmu\u001b[0m \u001b[1;31m#expectation vector being updated\u001b[0m\u001b[1;33m\u001b[0m\u001b[1;33m\u001b[0m\u001b[0m\n\u001b[1;32m---> 42\u001b[1;33m             \u001b[0mucb_value\u001b[0m \u001b[1;33m=\u001b[0m \u001b[0mmu\u001b[0m \u001b[1;33m+\u001b[0m \u001b[0mmath\u001b[0m\u001b[1;33m.\u001b[0m\u001b[0msqrt\u001b[0m\u001b[1;33m(\u001b[0m\u001b[1;36m3\u001b[0m\u001b[1;33m/\u001b[0m\u001b[1;36m2\u001b[0m\u001b[1;33m*\u001b[0m\u001b[0mmath\u001b[0m\u001b[1;33m.\u001b[0m\u001b[0mlog\u001b[0m\u001b[1;33m(\u001b[0m\u001b[0mt\u001b[0m\u001b[1;33m)\u001b[0m\u001b[1;33m/\u001b[0m\u001b[0mN\u001b[0m\u001b[1;33m[\u001b[0m\u001b[0ma\u001b[0m\u001b[1;33m]\u001b[0m\u001b[1;33m)\u001b[0m\u001b[1;33m\u001b[0m\u001b[1;33m\u001b[0m\u001b[0m\n\u001b[0m\u001b[0;32m     43\u001b[0m             \u001b[0mUCB_Values\u001b[0m\u001b[1;33m[\u001b[0m\u001b[0ma\u001b[0m\u001b[1;33m]\u001b[0m \u001b[1;33m=\u001b[0m \u001b[0mucb_value\u001b[0m\u001b[1;33m\u001b[0m\u001b[1;33m\u001b[0m\u001b[0m\n\u001b[0;32m     44\u001b[0m         \u001b[1;32melif\u001b[0m \u001b[1;33m(\u001b[0m\u001b[0mN\u001b[0m\u001b[1;33m[\u001b[0m\u001b[0ma\u001b[0m\u001b[1;33m]\u001b[0m \u001b[1;33m==\u001b[0m \u001b[1;36m0\u001b[0m\u001b[1;33m)\u001b[0m\u001b[1;33m:\u001b[0m \u001b[1;31m#i.e. if N is 0 for arm a, then set ucb value to infinity to allow exploration of arm a\u001b[0m\u001b[1;33m\u001b[0m\u001b[1;33m\u001b[0m\u001b[0m\n",
      "\u001b[1;31mValueError\u001b[0m: math domain error"
     ]
    }
   ],
   "source": [
    "#implementing CUCB, 1000 runs\n",
    "#CUCB for K arms being selected\n",
    "rounds = len(df2.index) # number of rounds\n",
    "K = 3 # window size, num of arms within a window\n",
    "k = 6 # number of arms\n",
    "mu = 0 # initialize to 0, the empirical mean\n",
    "N = np.zeros(k) # number of times a given arm has been selected before current round; initialize to 0 as no arm selected yet\n",
    "rewardSum = np.zeros(k)\n",
    "hist_UCB_rewards = [] #stores history of UCB CHOSEN rewards\n",
    "mu_arr = np.zeros(k)  #expectation vector; array of mu for each simple arm\n",
    "alpha = 0.6\n",
    "beta = 0.7\n",
    "r_mu = 0     #expected reward from a certain superarm\n",
    "r_mu_arr = []   #array of expected rewards for each superarm S\n",
    "Rt_S = 0      #sum of K arms' rewards in round t\n",
    "opt_mu = 0  #max(r_mu_arr)\n",
    "\n",
    "#initialize all the simple arms in a separate chunk of code from the rest of algorithm, acc. line 2 in pseudocode\n",
    "for i in range(math.ceil(k/K)):\n",
    "    UCB_Values = np.zeros(k) #array holding ucb values. re-initialize to 0 at start of each round\n",
    "    arm_selected = 0\n",
    "    for j in np.arange(K):\n",
    "        #pull superarm consisting of K arms\n",
    "        arm_selected = j\n",
    "        #N[arm_selected] += 1\n",
    "        #reward = df2.values[i, arm_selected+1]\n",
    "        #rewardSum[arm_selected] += reward\n",
    "    N[arm_selected] += 1\n",
    "    reward = df2.values[i, arm_selected+1]\n",
    "    rewardSum[arm_selected] += reward\n",
    "    i = i+K  #disjoint window, shifts right by K simple arms\n",
    "        \n",
    "#suppose CUCB is working\n",
    "#remaining rounds, given that math.ceil(k/K) rounds already completed in initialization\n",
    "for t in range(rounds-math.ceil(k/K)):\n",
    "    UCB_Values = np.zeros(k) #array holding ucb values. re-initialize to 0 at start of each round\n",
    "    arm_selected = 0\n",
    "    for a in range(k):\n",
    "        if (N[a] > 0):\n",
    "            mu = rewardSum[a]/N[a]\n",
    "            mu_arr[a] = mu #expectation vector being updated\n",
    "            ucb_value = mu + math.sqrt(3/2*math.log(t)/N[a]) \n",
    "            UCB_Values[a] = ucb_value\n",
    "        elif (N[a] == 0): #i.e. if N is 0 for arm a, then set ucb value to infinity to allow exploration of arm a\n",
    "            #ensures initialization of all k arms\n",
    "            UCB_Values[a] = 1e500 #infinity\n",
    "    arm_selected = np.argmax(UCB_Values)\n",
    "\n",
    "\n",
    "#updates\n",
    "if r_mu < alpha*opt_mu:\n",
    "    #this superarm is a bad superarm\n",
    "    #only increment the simple arm within this superarm that has min N\n",
    "    n_arr = []\n",
    "    for r in range(K):\n",
    "        #find the simple with the min N,increment that simple arm's N value\n",
    "        n_arr = np.append(n_arr, N[r]) #NB: N[K*0+r] = N[r] only for superarm 1. for superarm 2, N[K*1+r]. superarm 3, N[K*2+r]\n",
    "        N[arm_selected] = min(n_arr)+1\n",
    "#else:\n",
    "    #this superarm is not a bad superarm\n",
    "    #do not incremement N for any of the simple arms within this superarm\n",
    "\n"
   ]
  },
  {
   "cell_type": "code",
   "execution_count": null,
   "metadata": {},
   "outputs": [],
   "source": [
    "#regret = alpha*beta*optimal_superarm_mean_reward*t_rounds - sum of cucb_rewards yielded over t rounds\n",
    "\n",
    "regret = rounds*alpha*beta*opt_mu - UCB_total_reward\n",
    "print(\"Total regret after N rounds: \", regret)\n",
    "\n",
    "regret_arr = alpha*beta*opt_mu*np.arange(rounds) - UCB_cumu_reward\n",
    "regret_arr\n",
    "\n",
    "plt.plot(regret_arr,color = 'b')\n",
    "plt.show()"
   ]
  },
  {
   "cell_type": "code",
   "execution_count": null,
   "metadata": {},
   "outputs": [],
   "source": [
    "for t in range(rounds):\n",
    "    UCB_Values = np.zeros(k) #array holding ucb values. re-initialize to 0 at start of each round\n",
    "    arm_selected = 0\n",
    "    for a in range(k):\n",
    "        if (N[a] > 0):\n",
    "            mu = rewardSum[a]/N[a]\n",
    "            mu_arr[a] = mu #expectation vector being updated\n",
    "            ucb_value = mu + math.sqrt(3/2*math.log(t)/N[a]) \n",
    "            UCB_Values[a] = ucb_value\n",
    "        elif (N[a] == 0): #i.e. if N is 0 for arm a, then set ucb value to infinity to allow exploration of arm a\n",
    "            #ensures initialization of all k arms\n",
    "            UCB_Values[a] = 1e500 #infinity\n",
    "        \n",
    "    #update Values as of round t\n",
    "    #superarm S is bad if the reward sum from S is < alpha*opt_mu.\n",
    "    #if superarm S is bad then increment N as follows:\n",
    "    if N[arm1_selected] < N[arm2_selected]:\n",
    "        N[arm1_selected] += 1\n",
    "    else:\n",
    "        N[arm2_selected] += 1\n",
    "    #if superarm S is not bad then don't increment N at all:\n",
    "    reward = df2.values[t, arm1_selected+1] + df2.values[t, arm2_selected+1]\n",
    "    rewardSum[arm1_selected] += df2.values[t, arm1_selected+1]  #will need loop here to do this K times\n",
    "    rewardSum[arm2_selected] += df2.values[t, arm2_selected+1]\n",
    "    hist_UCB_rewards.append(reward)\n",
    "    UCB_cumu_reward = np.cumsum(hist_UCB_rewards)\n",
    "    UCB_total_reward = sum(hist_UCB_rewards)"
   ]
  },
  {
   "cell_type": "code",
   "execution_count": 262,
   "metadata": {},
   "outputs": [
    {
     "data": {
      "image/png": "[encoded data removed]",
      "text/plain": [
       "<Figure size 432x288 with 1 Axes>"
      ]
     },
     "metadata": {
      "needs_background": "light"
     },
     "output_type": "display_data"
    }
   ],
   "source": [
    "reward_arr1 = UCB_cumu_reward\n",
    "\n",
    "plt.plot(reward_arr1,color = 'g')\n",
    "plt.show()"
   ]
  },
  {
   "cell_type": "code",
   "execution_count": 263,
   "metadata": {},
   "outputs": [
    {
     "data": {
      "text/plain": [
       "Text(0.5, 1.0, 'Number of times Each Arm was Selected')"
      ]
     },
     "execution_count": 263,
     "metadata": {},
     "output_type": "execute_result"
    },
    {
     "data": {
      "image/png": "[encoded data removed]",
      "text/plain": [
       "<Figure size 432x288 with 1 Axes>"
      ]
     },
     "metadata": {
      "needs_background": "light"
     },
     "output_type": "display_data"
    }
   ],
   "source": [
    "plt.bar(['arm1','arm2','arm3','arm4','arm5'], N) #NB: N is calculated according to CUCB algorithm (page 5 in Superarm paper)\n",
    "plt.title(\"Number of times Each Arm was Selected\")"
   ]
  },
  {
   "cell_type": "code",
   "execution_count": null,
   "metadata": {},
   "outputs": [],
   "source": [
    "#regret = alpha*beta*optimal_superarm_mean_reward*t_rounds - sum of cucb_rewards yielded over t rounds\n",
    "\n",
    "regret = opt_mu*rounds - UCB_total_reward\n",
    "print(\"Total regret after N rounds: \", regret)\n",
    "\n",
    "regret_arr = 0.7*np.arange(rounds) - UCB_cumu_reward\n",
    "regret_arr\n",
    "\n",
    "plt.plot(regret_arr,color = 'b')\n",
    "plt.show()"
   ]
  },
  {
   "cell_type": "code",
   "execution_count": null,
   "metadata": {},
   "outputs": [],
   "source": []
  },
  {
   "cell_type": "code",
   "execution_count": 212,
   "metadata": {},
   "outputs": [
    {
     "ename": "IndentationError",
     "evalue": "expected an indented block (<ipython-input-212-dbe3899c7e2f>, line 29)",
     "output_type": "error",
     "traceback": [
      "\u001b[1;36m  File \u001b[1;32m\"<ipython-input-212-dbe3899c7e2f>\"\u001b[1;36m, line \u001b[1;32m29\u001b[0m\n\u001b[1;33m    arm1_selected = np.argmax(UCB_Values) #NB: argmax gives index of max value in a list/array\u001b[0m\n\u001b[1;37m    ^\u001b[0m\n\u001b[1;31mIndentationError\u001b[0m\u001b[1;31m:\u001b[0m expected an indented block\n"
     ]
    }
   ],
   "source": [
    "#implementing CUCB, 1000 runs\n",
    "#CMAB for any number K arms selected\n",
    "\n",
    "rounds = len(df.index) # number of rounds; \n",
    "k = 10 # number of arms\n",
    "mu = 0 # initialize to 0, the empirical mean\n",
    "N = np.zeros(k) # number of times a given arm has been selected before current round; initialize to 0 as no arm selected yet\n",
    "rewardSum = np.zeros(k)\n",
    "hist_UCB_rewards = [] #stores history of UCB CHOSEN rewards\n",
    "\n",
    "for t in range(rounds):\n",
    "    UCB_Values = np.zeros(k) #array holding ucb values. re-initialize to 0 at start of each round\n",
    "    arm_selected = 0\n",
    "    for a in range(k):\n",
    "        if (N[a] > 0):\n",
    "            #calculate UCB below\n",
    "            mu = rewardSum[a]/N[a]\n",
    "            ucb_value = mu + math.sqrt(3/2*math.log(t)/N[a]) \n",
    "            UCB_Values[a] = ucb_value\n",
    "        elif (N[a] == 0): #i.e. if N is 0 for arm a, then allow exploration of that arm\n",
    "            UCB_Values[a] = 1e500 #infinity\n",
    "        temp_UCB_Values[a] = UCB_Values[a]\n",
    "    \n",
    "    for i in range(K): #K is the num of arms we are selecting (window size)\n",
    "        for a in range(k): #sort, and take the first K ind\n",
    "            #take the highest K arms in terms of UCB values\n",
    "            #need array with indeces of the K best arms\n",
    "    arm1_selected = np.argmax(UCB_Values) #NB: argmax gives index of max value in a list/array\n",
    "    temp_UCB_Values[arm1_selected] = 0\n",
    "    arm2_selected = np.argmax(temp_UCB_Values)\n",
    "    \n",
    "    #update Values as of round t\n",
    "    N[arm1_selected] += 1 #will need loop here to do this K times\n",
    "    N[arm2_selected] += 1\n",
    "    reward = df.values[t, arm1_selected+1] + df.values[t, arm2_selected+1]\n",
    "    rewardSum[arm1_selected] += df.values[t, arm1_selected+1]  #will need loop here to do this K times\n",
    "    rewardSum[arm2_selected] += df.values[t, arm2_selected+1]\n",
    "    hist_UCB_rewards.append(reward)\n",
    "    UCB_cumu_reward = np.cumsum(hist_UCB_rewards)\n",
    "    UCB_total_reward = sum(hist_UCB_rewards)"
   ]
  },
  {
   "cell_type": "code",
   "execution_count": null,
   "metadata": {},
   "outputs": [],
   "source": []
  },
  {
   "cell_type": "code",
   "execution_count": null,
   "metadata": {},
   "outputs": [],
   "source": []
  },
  {
   "cell_type": "code",
   "execution_count": null,
   "metadata": {},
   "outputs": [],
   "source": []
  },
  {
   "cell_type": "code",
   "execution_count": null,
   "metadata": {},
   "outputs": [],
   "source": []
  }
 ],
 "metadata": {
  "kernelspec": {
   "display_name": "Python 3 (ipykernel)",
   "language": "python",
   "name": "python3"
  },
  "language_info": {
   "codemirror_mode": {
    "name": "ipython",
    "version": 3
   },
   "file_extension": ".py",
   "mimetype": "text/x-python",
   "name": "python",
   "nbconvert_exporter": "python",
   "pygments_lexer": "ipython3",
   "version": "3.11.4"
  }
 },
 "nbformat": 4,
 "nbformat_minor": 4
}
