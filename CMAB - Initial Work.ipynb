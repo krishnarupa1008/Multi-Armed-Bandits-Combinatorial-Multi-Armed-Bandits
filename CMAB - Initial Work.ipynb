{
 "cells": [
  {
   "cell_type": "code",
   "execution_count": 144,
   "metadata": {},
   "outputs": [],
   "source": [
    "import math\n",
    "import random\n",
    "import seaborn as sns\n",
    "import pandas as pd\n",
    "import numpy as np\n",
    "import scipy.stats\n",
    "import matplotlib.pyplot as plt\n",
    "plt.style.use('seaborn-whitegrid')\n",
    "%matplotlib inline\n",
    "from matplotlib.pyplot import figure"
   ]
  },
  {
   "cell_type": "code",
   "execution_count": 87,
   "metadata": {},
   "outputs": [
    {
     "data": {
      "text/plain": [
       "array([0.5 , 0.91, 0.9 , 0.82, 0.85, 0.79, 0.89, 0.04, 0.66, 0.21])"
      ]
     },
     "execution_count": 87,
     "metadata": {},
     "output_type": "execute_result"
    }
   ],
   "source": [
    "s = np.round_(np.random.uniform(0.01, 1, 10), decimals=2)\n",
    "s"
   ]
  },
  {
   "cell_type": "code",
   "execution_count": 88,
   "metadata": {},
   "outputs": [
    {
     "data": {
      "text/html": [
       "<div>\n",
       "<style scoped>\n",
       "    .dataframe tbody tr th:only-of-type {\n",
       "        vertical-align: middle;\n",
       "    }\n",
       "\n",
       "    .dataframe tbody tr th {\n",
       "        vertical-align: top;\n",
       "    }\n",
       "\n",
       "    .dataframe thead th {\n",
       "        text-align: right;\n",
       "    }\n",
       "</style>\n",
       "<table border=\"1\" class=\"dataframe\">\n",
       "  <thead>\n",
       "    <tr style=\"text-align: right;\">\n",
       "      <th></th>\n",
       "      <th>round</th>\n",
       "      <th>arm1</th>\n",
       "      <th>arm2</th>\n",
       "      <th>arm3</th>\n",
       "      <th>arm4</th>\n",
       "      <th>arm5</th>\n",
       "      <th>arm6</th>\n",
       "      <th>arm7</th>\n",
       "      <th>arm8</th>\n",
       "      <th>arm9</th>\n",
       "      <th>arm10</th>\n",
       "    </tr>\n",
       "  </thead>\n",
       "  <tbody>\n",
       "    <tr>\n",
       "      <th>0</th>\n",
       "      <td>1</td>\n",
       "      <td>0.209421</td>\n",
       "      <td>0.932188</td>\n",
       "      <td>0.398000</td>\n",
       "      <td>0.685312</td>\n",
       "      <td>0.726873</td>\n",
       "      <td>0.939960</td>\n",
       "      <td>0.047775</td>\n",
       "      <td>0.689492</td>\n",
       "      <td>0.036028</td>\n",
       "      <td>0.578531</td>\n",
       "    </tr>\n",
       "    <tr>\n",
       "      <th>1</th>\n",
       "      <td>2</td>\n",
       "      <td>0.275881</td>\n",
       "      <td>0.464951</td>\n",
       "      <td>0.324978</td>\n",
       "      <td>0.773546</td>\n",
       "      <td>0.002113</td>\n",
       "      <td>0.748151</td>\n",
       "      <td>0.383163</td>\n",
       "      <td>0.683434</td>\n",
       "      <td>0.836811</td>\n",
       "      <td>0.907527</td>\n",
       "    </tr>\n",
       "    <tr>\n",
       "      <th>2</th>\n",
       "      <td>3</td>\n",
       "      <td>0.256143</td>\n",
       "      <td>0.983893</td>\n",
       "      <td>0.215039</td>\n",
       "      <td>0.198314</td>\n",
       "      <td>0.255343</td>\n",
       "      <td>0.957247</td>\n",
       "      <td>0.384456</td>\n",
       "      <td>0.646623</td>\n",
       "      <td>0.543592</td>\n",
       "      <td>0.672722</td>\n",
       "    </tr>\n",
       "    <tr>\n",
       "      <th>3</th>\n",
       "      <td>4</td>\n",
       "      <td>0.134960</td>\n",
       "      <td>0.682767</td>\n",
       "      <td>0.623785</td>\n",
       "      <td>0.493841</td>\n",
       "      <td>0.788148</td>\n",
       "      <td>0.860455</td>\n",
       "      <td>0.669991</td>\n",
       "      <td>0.680875</td>\n",
       "      <td>0.900057</td>\n",
       "      <td>0.603718</td>\n",
       "    </tr>\n",
       "    <tr>\n",
       "      <th>4</th>\n",
       "      <td>5</td>\n",
       "      <td>0.652856</td>\n",
       "      <td>0.577864</td>\n",
       "      <td>0.006951</td>\n",
       "      <td>0.161430</td>\n",
       "      <td>0.395597</td>\n",
       "      <td>0.708243</td>\n",
       "      <td>0.424971</td>\n",
       "      <td>0.691223</td>\n",
       "      <td>0.731164</td>\n",
       "      <td>0.971067</td>\n",
       "    </tr>\n",
       "  </tbody>\n",
       "</table>\n",
       "</div>"
      ],
      "text/plain": [
       "   round      arm1      arm2      arm3      arm4      arm5      arm6  \\\n",
       "0      1  0.209421  0.932188  0.398000  0.685312  0.726873  0.939960   \n",
       "1      2  0.275881  0.464951  0.324978  0.773546  0.002113  0.748151   \n",
       "2      3  0.256143  0.983893  0.215039  0.198314  0.255343  0.957247   \n",
       "3      4  0.134960  0.682767  0.623785  0.493841  0.788148  0.860455   \n",
       "4      5  0.652856  0.577864  0.006951  0.161430  0.395597  0.708243   \n",
       "\n",
       "       arm7      arm8      arm9     arm10  \n",
       "0  0.047775  0.689492  0.036028  0.578531  \n",
       "1  0.383163  0.683434  0.836811  0.907527  \n",
       "2  0.384456  0.646623  0.543592  0.672722  \n",
       "3  0.669991  0.680875  0.900057  0.603718  \n",
       "4  0.424971  0.691223  0.731164  0.971067  "
      ]
     },
     "execution_count": 88,
     "metadata": {},
     "output_type": "execute_result"
    }
   ],
   "source": [
    "N=1000\n",
    "round_t = list(range(1,N+1))\n",
    "lower, upper = 0, 1\n",
    "\n",
    "a1 = scipy.stats.truncnorm.rvs((lower-0)/s[0],(upper-0)/s[0],loc=0,scale=s[0],size=N)          #mu, sigma = 0.0, ran\n",
    "a2 = scipy.stats.truncnorm.rvs((lower-0.1)/s[1],(upper-0.1)/s[1],loc=0.1,scale=s[1],size=N)    #mu, sigma = 0.1, ran\n",
    "a3 = scipy.stats.truncnorm.rvs((lower-0.2)/s[2],(upper-0.2)/s[2],loc=0.2,scale=s[2],size=N)    #mu, sigma = 0.2, ran\n",
    "a4 = scipy.stats.truncnorm.rvs((lower-0.3)/s[3],(upper-0.3)/s[3],loc=0.3,scale=s[3],size=N)    #mu, sigma = 0.3, ran\n",
    "a5 = scipy.stats.truncnorm.rvs((lower-0.4)/s[4],(upper-0.4)/s[4],loc=0.4,scale=s[4],size=N)    #mu, sigma = 0.4, ran\n",
    "a6 = scipy.stats.truncnorm.rvs((lower-0.5)/s[5],(upper-0.5)/s[5],loc=0.5,scale=s[5],size=N)    #mu, sigma = 0.5, ran\n",
    "a7 = scipy.stats.truncnorm.rvs((lower-0.6)/s[6],(upper-0.6)/s[6],loc=0.6,scale=s[6],size=N)    #mu, sigma = 0.6, ran\n",
    "a8 = scipy.stats.truncnorm.rvs((lower-0.7)/s[7],(upper-0.7)/s[7],loc=0.7,scale=s[7],size=N)    #mu, sigma = 0.7, ran\n",
    "a9 = scipy.stats.truncnorm.rvs((lower-0.8)/s[8],(upper-0.8)/s[8],loc=0.8,scale=s[8],size=N)    #mu, sigma = 0.8, ran\n",
    "a10 = scipy.stats.truncnorm.rvs((lower-0.9)/s[9],(upper-0.9)/s[9],loc=0.9,scale=s[9],size=N)   #mu, sigma = 0.9, ran\n",
    "\n",
    "df = pd.DataFrame({\"round\":round_t, \"arm1\":a1,\"arm2\":a2,\"arm3\":a3,\"arm4\":a4,\"arm5\":a5,\"arm6\":a6,\"arm7\":a7,\"arm8\":a8,\"arm9\":a9,\"arm10\":a10})\n",
    "df.head() #.head() just shows first 5 rows"
   ]
  },
  {
   "cell_type": "code",
   "execution_count": 89,
   "metadata": {},
   "outputs": [
    {
     "data": {
      "text/plain": [
       "Text(0.5, 1.0, 'Distribution of Rewards for Each Arm')"
      ]
     },
     "execution_count": 89,
     "metadata": {},
     "output_type": "execute_result"
    },
    {
     "data": {
      "image/png": "[encoded data removed]",
      "text/plain": [
       "<Figure size 432x288 with 1 Axes>"
      ]
     },
     "metadata": {
      "needs_background": "light"
     },
     "output_type": "display_data"
    }
   ],
   "source": [
    "sns.boxplot(x=\"variable\", y=\"value\", data=pd.melt(df[['arm1','arm2','arm3','arm4','arm5','arm6','arm7','arm8','arm9','arm10']]))\n",
    "plt.title(\"Distribution of Rewards for Each Arm\")"
   ]
  },
  {
   "cell_type": "code",
   "execution_count": 90,
   "metadata": {},
   "outputs": [],
   "source": [
    "#implementing UCB, 1000 runs\n",
    "#CMAB for 2 arms being selected\n",
    "rounds = len(df.index) # number of rounds; \n",
    "k = 10 # number of arms\n",
    "mu = 0 # initialize to 0, the empirical mean\n",
    "N = np.zeros(k) # number of times a given arm has been selected before current round; initialize to 0 as no arm selected yet\n",
    "rewardSum = np.zeros(k)\n",
    "hist_UCB_rewards = [] #stores history of UCB CHOSEN rewards\n",
    "\n",
    "for t in range(rounds):\n",
    "    UCB_Values = np.zeros(k) #array holding ucb values. re-initialize to 0 at start of each round\n",
    "    temp_UCB_Values = np.zeros(k)\n",
    "    arm_selected = 0\n",
    "    for a in range(k):\n",
    "        if (N[a] > 0):\n",
    "            #calculate UCB below\n",
    "            mu = rewardSum[a]/N[a]\n",
    "            ucb_value = mu + math.sqrt((3/2)*math.log(t)/N[a]) \n",
    "            UCB_Values[a] = ucb_value\n",
    "        elif (N[a] == 0): #i.e. if N is 0 for arm a, then allow exploration of that arm\n",
    "            UCB_Values[a] = 1e500 #infinity\n",
    "        temp_UCB_Values[a] = UCB_Values[a]\n",
    "        \n",
    "    arm1_selected = np.argmax(UCB_Values) #NB: argmax gives index of max value in a list/array\n",
    "    temp_UCB_Values[arm1_selected] = 0\n",
    "    arm2_selected = np.argmax(temp_UCB_Values)\n",
    "    \n",
    "    #update Values as of round t\n",
    "    N[arm1_selected] += 1\n",
    "    N[arm2_selected] += 1\n",
    "    reward = df.values[t, arm1_selected+1] + df.values[t, arm2_selected+1]\n",
    "    rewardSum[arm1_selected] += df.values[t, arm1_selected+1]\n",
    "    rewardSum[arm2_selected] += df.values[t, arm2_selected+1]\n",
    "    hist_UCB_rewards.append(reward)\n",
    "    UCB_cumu_reward = np.cumsum(hist_UCB_rewards)\n",
    "    UCB_total_reward = sum(hist_UCB_rewards)"
   ]
  },
  {
   "cell_type": "code",
   "execution_count": 91,
   "metadata": {},
   "outputs": [
    {
     "data": {
      "image/png": "[encoded data removed]",
      "text/plain": [
       "<Figure size 432x288 with 1 Axes>"
      ]
     },
     "metadata": {
      "needs_background": "light"
     },
     "output_type": "display_data"
    }
   ],
   "source": [
    "reward_arr1 = UCB_cumu_reward\n",
    "\n",
    "plt.plot(reward_arr1,color = 'g')\n",
    "plt.show()"
   ]
  },
  {
   "cell_type": "code",
   "execution_count": null,
   "metadata": {},
   "outputs": [],
   "source": []
  },
  {
   "cell_type": "code",
   "execution_count": 92,
   "metadata": {},
   "outputs": [],
   "source": [
    "#implementing UCB, 1000 runs\n",
    "#CMAB for 2 arms being selected\n",
    "#factor 3/2 replaced with 1\n",
    "rounds = len(df.index) # number of rounds; \n",
    "k = 10 # number of arms\n",
    "mu = 0 # initialize to 0, the empirical mean\n",
    "N = np.zeros(k) # number of times a given arm has been selected before current round; initialize to 0 as no arm selected yet\n",
    "rewardSum = np.zeros(k)\n",
    "hist_UCB_rewards = [] #stores history of UCB CHOSEN rewards\n",
    "\n",
    "for t in range(rounds):\n",
    "    UCB_Values = np.zeros(k) #array holding ucb values. re-initialize to 0 at start of each round\n",
    "    temp_UCB_Values = np.zeros(k)\n",
    "    arm_selected = 0\n",
    "    for a in range(k):\n",
    "        if (N[a] > 0):\n",
    "            #calculate UCB below\n",
    "            mu = rewardSum[a]/N[a]\n",
    "            ucb_value = mu + math.sqrt(math.log(t)/N[a]) \n",
    "            UCB_Values[a] = ucb_value\n",
    "        elif (N[a] == 0): #i.e. if N is 0 for arm a, then allow exploration of that arm\n",
    "            UCB_Values[a] = 1e500 #infinity\n",
    "        temp_UCB_Values[a] = UCB_Values[a]\n",
    "        \n",
    "    arm1_selected = np.argmax(UCB_Values) #NB: argmax gives index of max value in a list/array\n",
    "    temp_UCB_Values[arm1_selected] = 0\n",
    "    arm2_selected = np.argmax(temp_UCB_Values)\n",
    "    \n",
    "    #update Values as of round t\n",
    "    N[arm1_selected] += 1\n",
    "    N[arm2_selected] += 1\n",
    "    reward = df.values[t, arm1_selected+1] + df.values[t, arm2_selected+1]\n",
    "    rewardSum[arm1_selected] += df.values[t, arm1_selected+1]\n",
    "    rewardSum[arm2_selected] += df.values[t, arm2_selected+1]\n",
    "    hist_UCB_rewards.append(reward)\n",
    "    UCB_cumu_reward = np.cumsum(hist_UCB_rewards)\n",
    "    UCB_total_reward = sum(hist_UCB_rewards)"
   ]
  },
  {
   "cell_type": "code",
   "execution_count": 93,
   "metadata": {},
   "outputs": [
    {
     "data": {
      "image/png": "[encoded data removed]",
      "text/plain": [
       "<Figure size 432x288 with 1 Axes>"
      ]
     },
     "metadata": {
      "needs_background": "light"
     },
     "output_type": "display_data"
    }
   ],
   "source": [
    "reward_arr2 = UCB_cumu_reward\n",
    "\n",
    "plt.plot(reward_arr2,color = 'g')\n",
    "plt.show()"
   ]
  },
  {
   "cell_type": "code",
   "execution_count": null,
   "metadata": {},
   "outputs": [],
   "source": []
  },
  {
   "cell_type": "code",
   "execution_count": 94,
   "metadata": {},
   "outputs": [],
   "source": [
    "#implementing UCB, 1000 runs\n",
    "#CMAB for 2 arms being selected\n",
    "#factor 3/2 replaced by 3\n",
    "rounds = len(df.index) # number of rounds; \n",
    "k = 10 # number of arms\n",
    "mu = 0 # initialize to 0, the empirical mean\n",
    "N = np.zeros(k) # number of times a given arm has been selected before current round; initialize to 0 as no arm selected yet\n",
    "rewardSum = np.zeros(k)\n",
    "hist_UCB_rewards = [] #stores history of UCB CHOSEN rewards\n",
    "\n",
    "for t in range(rounds):\n",
    "    UCB_Values = np.zeros(k) #array holding the ucb values. we pick the max \n",
    "    temp_UCB_Values = np.zeros(k)\n",
    "    arm_selected = 0\n",
    "    for a in range(k):\n",
    "        if (N[a] > 0):\n",
    "            #calculate UCB below\n",
    "            mu = rewardSum[a]/N[a]\n",
    "            ucb_value = mu + math.sqrt(3*math.log(t)/N[a]) \n",
    "            UCB_Values[a] = ucb_value\n",
    "        elif (N[a] == 0): #i.e. if N is 0 for arm a, then allow exploration of that arm\n",
    "            UCB_Values[a] = 1e500 #infinity\n",
    "        temp_UCB_Values[a] = UCB_Values[a]\n",
    "        \n",
    "    arm1_selected = np.argmax(UCB_Values) #NB: argmax gives index of max value in a list/array\n",
    "    temp_UCB_Values[arm1_selected] = 0\n",
    "    arm2_selected = np.argmax(temp_UCB_Values)\n",
    "    \n",
    "    #update Values as of round t\n",
    "    N[arm1_selected] += 1\n",
    "    N[arm2_selected] += 1\n",
    "    reward = df.values[t, arm1_selected+1] + df.values[t, arm2_selected+1]\n",
    "    rewardSum[arm1_selected] += df.values[t, arm1_selected+1]\n",
    "    rewardSum[arm2_selected] += df.values[t, arm2_selected+1]\n",
    "    hist_UCB_rewards.append(reward)\n",
    "    UCB_cumu_reward = np.cumsum(hist_UCB_rewards)\n",
    "    UCB_total_reward = sum(hist_UCB_rewards)"
   ]
  },
  {
   "cell_type": "code",
   "execution_count": 95,
   "metadata": {},
   "outputs": [
    {
     "data": {
      "image/png": "[encoded data removed]",
      "text/plain": [
       "<Figure size 432x288 with 1 Axes>"
      ]
     },
     "metadata": {
      "needs_background": "light"
     },
     "output_type": "display_data"
    }
   ],
   "source": [
    "reward_arr3 = UCB_cumu_reward\n",
    "\n",
    "plt.plot(reward_arr3,color = 'g')\n",
    "plt.show()"
   ]
  },
  {
   "cell_type": "code",
   "execution_count": null,
   "metadata": {},
   "outputs": [],
   "source": []
  },
  {
   "cell_type": "code",
   "execution_count": 96,
   "metadata": {},
   "outputs": [],
   "source": [
    "#implementing UCB, 1000 runs\n",
    "#CMAB for 2 arms being selected\n",
    "#ln(t) replaced by t\n",
    "rounds = len(df.index) # number of rounds; \n",
    "k = 10 # number of arms\n",
    "mu = 0 # initialize to 0, the empirical mean\n",
    "N = np.zeros(k) # number of times a given arm has been selected before current round; initialize to 0 as no arm selected yet\n",
    "rewardSum = np.zeros(k)\n",
    "hist_UCB_rewards = [] #stores history of UCB CHOSEN rewards\n",
    "\n",
    "for t in range(rounds):\n",
    "    UCB_Values = np.zeros(k) #array holding the ucb values. we pick the max \n",
    "    temp_UCB_Values = np.zeros(k)\n",
    "    arm_selected = 0\n",
    "    for a in range(k):\n",
    "        if (N[a] > 0):\n",
    "            #calculate UCB below\n",
    "            mu = rewardSum[a]/N[a]\n",
    "            ucb_value = mu + math.sqrt(3/2*(t)/N[a]) \n",
    "            UCB_Values[a] = ucb_value\n",
    "        elif (N[a] == 0): #i.e. if N is 0 for arm a, then allow exploration of that arm\n",
    "            UCB_Values[a] = 1e500 #infinity\n",
    "        temp_UCB_Values[a] = UCB_Values[a]\n",
    "    \n",
    "    arm1_selected = np.argmax(UCB_Values) #NB: argmax gives index of max value in a list/array\n",
    "    temp_UCB_Values[arm1_selected] = 0\n",
    "    arm2_selected = np.argmax(temp_UCB_Values)\n",
    "    \n",
    "    #update Values as of round t\n",
    "    N[arm1_selected] += 1 #will need loop here to do this K times\n",
    "    N[arm2_selected] += 1\n",
    "    reward = df.values[t, arm1_selected+1] + df.values[t, arm2_selected+1]\n",
    "    rewardSum[arm1_selected] += df.values[t, arm1_selected+1]  #will need loop here to do this K times\n",
    "    rewardSum[arm2_selected] += df.values[t, arm2_selected+1]\n",
    "    hist_UCB_rewards.append(reward)\n",
    "    UCB_cumu_reward = np.cumsum(hist_UCB_rewards)\n",
    "    UCB_total_reward = sum(hist_UCB_rewards)"
   ]
  },
  {
   "cell_type": "code",
   "execution_count": null,
   "metadata": {},
   "outputs": [],
   "source": []
  },
  {
   "cell_type": "code",
   "execution_count": 97,
   "metadata": {},
   "outputs": [
    {
     "data": {
      "image/png": "[encoded data removed]",
      "text/plain": [
       "<Figure size 432x288 with 1 Axes>"
      ]
     },
     "metadata": {
      "needs_background": "light"
     },
     "output_type": "display_data"
    }
   ],
   "source": [
    "reward_arr4 = UCB_cumu_reward\n",
    "\n",
    "plt.plot(reward_arr4,color = 'g')\n",
    "plt.show()"
   ]
  },
  {
   "cell_type": "code",
   "execution_count": null,
   "metadata": {},
   "outputs": [],
   "source": []
  },
  {
   "cell_type": "code",
   "execution_count": 98,
   "metadata": {},
   "outputs": [
    {
     "data": {
      "image/png": "[encoded data removed]",
      "text/plain": [
       "<Figure size 432x288 with 1 Axes>"
      ]
     },
     "metadata": {
      "needs_background": "light"
     },
     "output_type": "display_data"
    }
   ],
   "source": [
    "#The 3 plots above all on same set of axes\n",
    "plt.plot(reward_arr1, label = \"Original\", color = \"b\")\n",
    "plt.plot(reward_arr2, label = \"3/2 Replaced by 1\", color = 'm')\n",
    "plt.plot(reward_arr3, label = \"3/2 Replaced by 3\", color = 'r')\n",
    "plt.plot(reward_arr4, label = \"ln(t) Replaced by t\", color = 'c')\n",
    "plt.title(\"Cumulative Rewards\")\n",
    "plt.legend()\n",
    "plt.show()"
   ]
  },
  {
   "cell_type": "code",
   "execution_count": null,
   "metadata": {},
   "outputs": [],
   "source": []
  },
  {
   "cell_type": "code",
   "execution_count": 136,
   "metadata": {},
   "outputs": [],
   "source": [
    "#Record 2 things for every 20 runs in time sequence\n",
    "#i.e. 1. selection distribution of each arm; 2. sum of returns of these 20 runs\n",
    "#so that you have 50 sets of records\n",
    "#implementing UCB, 1000 runs\n",
    "#CMAB for 2 arms being selected\n",
    "rounds = len(df.index) # number of rounds; \n",
    "k = 10 # number of arms\n",
    "mu = 0 # initialize to 0, the empirical mean\n",
    "N = np.zeros(k) # number of times a given arm has been selected before current round; initialize to 0 as no arm selected yet\n",
    "rewardSum = np.zeros(k)\n",
    "hist_UCB_rewards = [] #stores history of UCB CHOSEN rewards\n",
    "\n",
    "for i in range(1):\n",
    "    for t in range(20):\n",
    "        UCB_Values = np.zeros(k) #array holding the ucb values. we pick the max \n",
    "        temp_UCB_Values = np.zeros(k)\n",
    "        arm_selected = 0\n",
    "        for a in range(k):\n",
    "            if (N[a] > 0):\n",
    "                #calculate UCB below\n",
    "                mu = rewardSum[a]/N[a]\n",
    "                ucb_value = mu + math.sqrt((3/2)*math.log(t)/N[a]) \n",
    "                UCB_Values[a] = ucb_value\n",
    "            elif (N[a] == 0): #i.e. if N is 0 for arm a, then allow exploration of that arm\n",
    "                UCB_Values[a] = 1e500 #infinity\n",
    "            temp_UCB_Values[a] = UCB_Values[a]\n",
    "\n",
    "        arm1_selected = np.argmax(UCB_Values) #NB: argmax gives index of max value in a list/array\n",
    "        temp_UCB_Values[arm1_selected] = 0\n",
    "        arm2_selected = np.argmax(temp_UCB_Values)\n",
    "\n",
    "        #update Values as of round t\n",
    "        N[arm1_selected] += 1\n",
    "        N[arm2_selected] += 1\n",
    "        reward = df.values[t, arm1_selected+1] + df.values[t, arm2_selected+1]\n",
    "        rewardSum[arm1_selected] += df.values[t, arm1_selected+1]\n",
    "        rewardSum[arm2_selected] += df.values[t, arm2_selected+1]\n",
    "        hist_UCB_rewards.append(reward)\n",
    "        UCB_cumu_reward = np.cumsum(hist_UCB_rewards)\n",
    "        UCB_total_reward = sum(hist_UCB_rewards)\n",
    "    "
   ]
  },
  {
   "cell_type": "code",
   "execution_count": 137,
   "metadata": {},
   "outputs": [
    {
     "data": {
      "image/png": "[encoded data removed]",
      "text/plain": [
       "<Figure size 432x288 with 1 Axes>"
      ]
     },
     "metadata": {
      "needs_background": "light"
     },
     "output_type": "display_data"
    }
   ],
   "source": [
    "reward_arr = UCB_cumu_reward\n",
    "\n",
    "plt.plot(reward_arr,color = 'g')\n",
    "plt.show()"
   ]
  },
  {
   "cell_type": "code",
   "execution_count": 138,
   "metadata": {},
   "outputs": [],
   "source": [
    "for i in range(49):\n",
    "    for t in range(1,21):\n",
    "        for a in range(k):\n",
    "            mu = rewardSum[a]/N[a]\n",
    "            ucb_value = mu + math.sqrt((3/2)*math.log(t)/N[a]) \n",
    "            UCB_Values[a] = ucb_value\n",
    "            temp_UCB_Values[a] = UCB_Values[a]            \n",
    "\n",
    "        arm1_selected = np.argmax(UCB_Values) #NB: argmax gives index of max value in a list/array\n",
    "        temp_UCB_Values[arm1_selected] = 0\n",
    "        arm2_selected = np.argmax(temp_UCB_Values)\n",
    "\n",
    "        #update Values as of round t\n",
    "        N[arm1_selected] += 1\n",
    "        N[arm2_selected] += 1\n",
    "        reward = df.values[t, arm1_selected+1] + df.values[t, arm2_selected+1]\n",
    "        rewardSum[arm1_selected] += df.values[t, arm1_selected+1]\n",
    "        rewardSum[arm2_selected] += df.values[t, arm2_selected+1]\n",
    "        hist_UCB_rewards.append(reward)\n",
    "        UCB_cumu_reward = np.cumsum(hist_UCB_rewards)\n",
    "        UCB_total_reward = sum(hist_UCB_rewards)"
   ]
  },
  {
   "cell_type": "code",
   "execution_count": 139,
   "metadata": {},
   "outputs": [
    {
     "data": {
      "image/png": "[encoded data removed]",
      "text/plain": [
       "<Figure size 432x288 with 1 Axes>"
      ]
     },
     "metadata": {
      "needs_background": "light"
     },
     "output_type": "display_data"
    }
   ],
   "source": [
    "reward_arr = UCB_cumu_reward\n",
    "\n",
    "plt.plot(reward_arr,color = 'g')\n",
    "plt.show()"
   ]
  },
  {
   "cell_type": "code",
   "execution_count": 145,
   "metadata": {},
   "outputs": [
    {
     "ename": "TypeError",
     "evalue": "bar() missing 1 required positional argument: 'height'",
     "output_type": "error",
     "traceback": [
      "\u001b[1;31m---------------------------------------------------------------------------\u001b[0m",
      "\u001b[1;31mTypeError\u001b[0m                                 Traceback (most recent call last)",
      "\u001b[1;32m<ipython-input-145-a4b1fcdefdb8>\u001b[0m in \u001b[0;36m<module>\u001b[1;34m\u001b[0m\n\u001b[0;32m      1\u001b[0m \u001b[0mfigure\u001b[0m\u001b[1;33m(\u001b[0m\u001b[0mfigsize\u001b[0m\u001b[1;33m=\u001b[0m\u001b[1;33m(\u001b[0m\u001b[1;36m9\u001b[0m\u001b[1;33m,\u001b[0m\u001b[1;36m6\u001b[0m\u001b[1;33m)\u001b[0m\u001b[1;33m)\u001b[0m\u001b[1;33m\u001b[0m\u001b[1;33m\u001b[0m\u001b[0m\n\u001b[1;32m----> 2\u001b[1;33m \u001b[0mplt\u001b[0m\u001b[1;33m.\u001b[0m\u001b[0mbar\u001b[0m\u001b[1;33m(\u001b[0m\u001b[0ma1\u001b[0m\u001b[1;33m,\u001b[0m \u001b[0mcolor\u001b[0m\u001b[1;33m=\u001b[0m\u001b[1;34m'cyan'\u001b[0m\u001b[1;33m,\u001b[0m \u001b[0mlabel\u001b[0m\u001b[1;33m=\u001b[0m\u001b[1;34m'A'\u001b[0m\u001b[1;33m)\u001b[0m\u001b[1;33m\u001b[0m\u001b[1;33m\u001b[0m\u001b[0m\n\u001b[0m\u001b[0;32m      3\u001b[0m \u001b[0mplt\u001b[0m\u001b[1;33m.\u001b[0m\u001b[0mbar\u001b[0m\u001b[1;33m(\u001b[0m\u001b[0ma2\u001b[0m\u001b[1;33m,\u001b[0m \u001b[0mbottom\u001b[0m\u001b[1;33m=\u001b[0m\u001b[0ma1\u001b[0m\u001b[1;33m,\u001b[0m \u001b[0mcolor\u001b[0m\u001b[1;33m=\u001b[0m\u001b[1;34m'green'\u001b[0m\u001b[1;33m,\u001b[0m \u001b[0mlabel\u001b[0m\u001b[1;33m=\u001b[0m\u001b[1;34m'B'\u001b[0m\u001b[1;33m)\u001b[0m\u001b[1;33m\u001b[0m\u001b[1;33m\u001b[0m\u001b[0m\n\u001b[0;32m      4\u001b[0m \u001b[0mplt\u001b[0m\u001b[1;33m.\u001b[0m\u001b[0mbar\u001b[0m\u001b[1;33m(\u001b[0m\u001b[0ma3\u001b[0m\u001b[1;33m,\u001b[0m \u001b[0mbottom\u001b[0m\u001b[1;33m=\u001b[0m\u001b[0ma1\u001b[0m\u001b[1;33m+\u001b[0m\u001b[0ma2\u001b[0m\u001b[1;33m,\u001b[0m \u001b[0mcolor\u001b[0m\u001b[1;33m=\u001b[0m\u001b[1;34m'red'\u001b[0m\u001b[1;33m,\u001b[0m \u001b[0mlabel\u001b[0m\u001b[1;33m=\u001b[0m\u001b[1;34m'C'\u001b[0m\u001b[1;33m)\u001b[0m\u001b[1;33m\u001b[0m\u001b[1;33m\u001b[0m\u001b[0m\n\u001b[0;32m      5\u001b[0m \u001b[0mplt\u001b[0m\u001b[1;33m.\u001b[0m\u001b[0mbar\u001b[0m\u001b[1;33m(\u001b[0m\u001b[0ma4\u001b[0m\u001b[1;33m,\u001b[0m \u001b[0mbottom\u001b[0m\u001b[1;33m=\u001b[0m\u001b[0ma1\u001b[0m\u001b[1;33m+\u001b[0m\u001b[0ma2\u001b[0m\u001b[1;33m+\u001b[0m\u001b[0ma3\u001b[0m\u001b[1;33m,\u001b[0m \u001b[0mcolor\u001b[0m\u001b[1;33m=\u001b[0m\u001b[1;34m'yellow'\u001b[0m\u001b[1;33m,\u001b[0m \u001b[0mlabel\u001b[0m\u001b[1;33m=\u001b[0m\u001b[1;34m'D'\u001b[0m\u001b[1;33m)\u001b[0m\u001b[1;33m\u001b[0m\u001b[1;33m\u001b[0m\u001b[0m\n",
      "\u001b[1;31mTypeError\u001b[0m: bar() missing 1 required positional argument: 'height'"
     ]
    },
    {
     "data": {
      "text/plain": [
       "<Figure size 648x432 with 0 Axes>"
      ]
     },
     "metadata": {},
     "output_type": "display_data"
    }
   ],
   "source": [
    "#stacked bar plot attempt\n",
    "figure(figsize=(9,6))\n",
    "plt.bar(a1, color='cyan', label='A')\n",
    "plt.bar(a2, bottom=a1, color='green', label='B')\n",
    "plt.bar(a3, bottom=a1+a2, color='red', label='C')\n",
    "plt.bar(a4, bottom=a1+a2+a3, color='yellow', label='D')"
   ]
  },
  {
   "cell_type": "code",
   "execution_count": 151,
   "metadata": {},
   "outputs": [
    {
     "data": {
      "text/plain": [
       "(7.067241188649765,\n",
       " 126.82720352595265,\n",
       " 26.606157845736153,\n",
       " 2.660647692110857,\n",
       " 728.1099290535948)"
      ]
     },
     "execution_count": 151,
     "metadata": {},
     "output_type": "execute_result"
    }
   ],
   "source": [
    "rewardSum[0], rewardSum[1], rewardSum[2], rewardSum[3], rewardSum[9]"
   ]
  },
  {
   "cell_type": "code",
   "execution_count": 149,
   "metadata": {},
   "outputs": [
    {
     "data": {
      "text/plain": [
       "728.1099290535948"
      ]
     },
     "execution_count": 149,
     "metadata": {},
     "output_type": "execute_result"
    }
   ],
   "source": [
    "rewardSum[9]"
   ]
  },
  {
   "cell_type": "code",
   "execution_count": null,
   "metadata": {},
   "outputs": [],
   "source": []
  }
 ],
 "metadata": {
  "kernelspec": {
   "display_name": "Python 3 (ipykernel)",
   "language": "python",
   "name": "python3"
  },
  "language_info": {
   "codemirror_mode": {
    "name": "ipython",
    "version": 3
   },
   "file_extension": ".py",
   "mimetype": "text/x-python",
   "name": "python",
   "nbconvert_exporter": "python",
   "pygments_lexer": "ipython3",
   "version": "3.11.4"
  }
 },
 "nbformat": 4,
 "nbformat_minor": 4
}
